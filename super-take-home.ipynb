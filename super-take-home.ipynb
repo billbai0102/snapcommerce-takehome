{
 "cells": [
  {
   "cell_type": "code",
   "execution_count": 1,
   "metadata": {
    "collapsed": true
   },
   "outputs": [],
   "source": [
    "import pandas as pd\n",
    "import math\n",
    "import string\n",
    "from io import StringIO"
   ]
  },
  {
   "cell_type": "code",
   "execution_count": 2,
   "outputs": [],
   "source": [
    "data = 'Airline Code;DelayTimes;FlightCodes;To_From\\nAir Canada (!);[21, 40];20015.0;WAterLoo_NEWYork\\n<Air France> (12);[];;Montreal_TORONTO\\n(Porter Airways. );[60, 22, 87];20035.0;CALgary_Ottawa\\n12. Air France;[78, 66];;Ottawa_VANcouvER\\n\"\"\".\\\\.Lufthansa.\\\\.\"\"\";[12, 33];20055.0;london_MONTreal\\n'"
   ],
   "metadata": {
    "collapsed": false,
    "pycharm": {
     "name": "#%%\n"
    }
   }
  },
  {
   "cell_type": "code",
   "execution_count": 3,
   "outputs": [
    {
     "data": {
      "text/plain": "         Airline Code    DelayTimes  FlightCodes           To_From\n0      Air Canada (!)      [21, 40]      20015.0  WAterLoo_NEWYork\n1   <Air France> (12)            []          NaN  Montreal_TORONTO\n2  (Porter Airways. )  [60, 22, 87]      20035.0    CALgary_Ottawa\n3      12. Air France      [78, 66]          NaN  Ottawa_VANcouvER\n4   \".\\.Lufthansa.\\.\"      [12, 33]      20055.0   london_MONTreal",
      "text/html": "<div>\n<style scoped>\n    .dataframe tbody tr th:only-of-type {\n        vertical-align: middle;\n    }\n\n    .dataframe tbody tr th {\n        vertical-align: top;\n    }\n\n    .dataframe thead th {\n        text-align: right;\n    }\n</style>\n<table border=\"1\" class=\"dataframe\">\n  <thead>\n    <tr style=\"text-align: right;\">\n      <th></th>\n      <th>Airline Code</th>\n      <th>DelayTimes</th>\n      <th>FlightCodes</th>\n      <th>To_From</th>\n    </tr>\n  </thead>\n  <tbody>\n    <tr>\n      <th>0</th>\n      <td>Air Canada (!)</td>\n      <td>[21, 40]</td>\n      <td>20015.0</td>\n      <td>WAterLoo_NEWYork</td>\n    </tr>\n    <tr>\n      <th>1</th>\n      <td>&lt;Air France&gt; (12)</td>\n      <td>[]</td>\n      <td>NaN</td>\n      <td>Montreal_TORONTO</td>\n    </tr>\n    <tr>\n      <th>2</th>\n      <td>(Porter Airways. )</td>\n      <td>[60, 22, 87]</td>\n      <td>20035.0</td>\n      <td>CALgary_Ottawa</td>\n    </tr>\n    <tr>\n      <th>3</th>\n      <td>12. Air France</td>\n      <td>[78, 66]</td>\n      <td>NaN</td>\n      <td>Ottawa_VANcouvER</td>\n    </tr>\n    <tr>\n      <th>4</th>\n      <td>\".\\.Lufthansa.\\.\"</td>\n      <td>[12, 33]</td>\n      <td>20055.0</td>\n      <td>london_MONTreal</td>\n    </tr>\n  </tbody>\n</table>\n</div>"
     },
     "execution_count": 3,
     "metadata": {},
     "output_type": "execute_result"
    }
   ],
   "source": [
    "df = pd.read_csv(StringIO(data), lineterminator=\"\\n\", delimiter=\";\")\n",
    "df['FlightCodes'] = pd.to_numeric(df['FlightCodes'])\n",
    "\n",
    "df"
   ],
   "metadata": {
    "collapsed": false,
    "pycharm": {
     "name": "#%%\n"
    }
   }
  },
  {
   "cell_type": "code",
   "execution_count": 4,
   "outputs": [
    {
     "data": {
      "text/plain": "         Airline Code    DelayTimes  FlightCodes           To_From\n0      Air Canada (!)      [21, 40]        20015  WAterLoo_NEWYork\n1   <Air France> (12)            []        20025  Montreal_TORONTO\n2  (Porter Airways. )  [60, 22, 87]        20035    CALgary_Ottawa\n3      12. Air France      [78, 66]        20045  Ottawa_VANcouvER\n4   \".\\.Lufthansa.\\.\"      [12, 33]        20055   london_MONTreal",
      "text/html": "<div>\n<style scoped>\n    .dataframe tbody tr th:only-of-type {\n        vertical-align: middle;\n    }\n\n    .dataframe tbody tr th {\n        vertical-align: top;\n    }\n\n    .dataframe thead th {\n        text-align: right;\n    }\n</style>\n<table border=\"1\" class=\"dataframe\">\n  <thead>\n    <tr style=\"text-align: right;\">\n      <th></th>\n      <th>Airline Code</th>\n      <th>DelayTimes</th>\n      <th>FlightCodes</th>\n      <th>To_From</th>\n    </tr>\n  </thead>\n  <tbody>\n    <tr>\n      <th>0</th>\n      <td>Air Canada (!)</td>\n      <td>[21, 40]</td>\n      <td>20015</td>\n      <td>WAterLoo_NEWYork</td>\n    </tr>\n    <tr>\n      <th>1</th>\n      <td>&lt;Air France&gt; (12)</td>\n      <td>[]</td>\n      <td>20025</td>\n      <td>Montreal_TORONTO</td>\n    </tr>\n    <tr>\n      <th>2</th>\n      <td>(Porter Airways. )</td>\n      <td>[60, 22, 87]</td>\n      <td>20035</td>\n      <td>CALgary_Ottawa</td>\n    </tr>\n    <tr>\n      <th>3</th>\n      <td>12. Air France</td>\n      <td>[78, 66]</td>\n      <td>20045</td>\n      <td>Ottawa_VANcouvER</td>\n    </tr>\n    <tr>\n      <th>4</th>\n      <td>\".\\.Lufthansa.\\.\"</td>\n      <td>[12, 33]</td>\n      <td>20055</td>\n      <td>london_MONTreal</td>\n    </tr>\n  </tbody>\n</table>\n</div>"
     },
     "execution_count": 4,
     "metadata": {},
     "output_type": "execute_result"
    }
   ],
   "source": [
    "df['FlightCodes'] = df['FlightCodes'].interpolate()\n",
    "df['FlightCodes'] = df['FlightCodes'].astype(int)\n",
    "df\n"
   ],
   "metadata": {
    "collapsed": false,
    "pycharm": {
     "name": "#%%\n"
    }
   }
  },
  {
   "cell_type": "code",
   "execution_count": 5,
   "outputs": [
    {
     "name": "stdout",
     "output_type": "stream",
     "text": [
      "WAterLoo_NEWYork\n",
      "Montreal_TORONTO\n",
      "CALgary_Ottawa\n",
      "Ottawa_VANcouvER\n",
      "london_MONTreal\n"
     ]
    },
    {
     "data": {
      "text/plain": "         Airline Code    DelayTimes  FlightCodes        To       From\n0      Air Canada (!)      [21, 40]        20015  WATERLOO    NEWYORK\n1   <Air France> (12)            []        20025  MONTREAL    TORONTO\n2  (Porter Airways. )  [60, 22, 87]        20035   CALGARY     OTTAWA\n3      12. Air France      [78, 66]        20045    OTTAWA  VANCOUVER\n4   \".\\.Lufthansa.\\.\"      [12, 33]        20055    LONDON   MONTREAL",
      "text/html": "<div>\n<style scoped>\n    .dataframe tbody tr th:only-of-type {\n        vertical-align: middle;\n    }\n\n    .dataframe tbody tr th {\n        vertical-align: top;\n    }\n\n    .dataframe thead th {\n        text-align: right;\n    }\n</style>\n<table border=\"1\" class=\"dataframe\">\n  <thead>\n    <tr style=\"text-align: right;\">\n      <th></th>\n      <th>Airline Code</th>\n      <th>DelayTimes</th>\n      <th>FlightCodes</th>\n      <th>To</th>\n      <th>From</th>\n    </tr>\n  </thead>\n  <tbody>\n    <tr>\n      <th>0</th>\n      <td>Air Canada (!)</td>\n      <td>[21, 40]</td>\n      <td>20015</td>\n      <td>WATERLOO</td>\n      <td>NEWYORK</td>\n    </tr>\n    <tr>\n      <th>1</th>\n      <td>&lt;Air France&gt; (12)</td>\n      <td>[]</td>\n      <td>20025</td>\n      <td>MONTREAL</td>\n      <td>TORONTO</td>\n    </tr>\n    <tr>\n      <th>2</th>\n      <td>(Porter Airways. )</td>\n      <td>[60, 22, 87]</td>\n      <td>20035</td>\n      <td>CALGARY</td>\n      <td>OTTAWA</td>\n    </tr>\n    <tr>\n      <th>3</th>\n      <td>12. Air France</td>\n      <td>[78, 66]</td>\n      <td>20045</td>\n      <td>OTTAWA</td>\n      <td>VANCOUVER</td>\n    </tr>\n    <tr>\n      <th>4</th>\n      <td>\".\\.Lufthansa.\\.\"</td>\n      <td>[12, 33]</td>\n      <td>20055</td>\n      <td>LONDON</td>\n      <td>MONTREAL</td>\n    </tr>\n  </tbody>\n</table>\n</div>"
     },
     "execution_count": 5,
     "metadata": {},
     "output_type": "execute_result"
    }
   ],
   "source": [
    "to_col = []\n",
    "from_col = []\n",
    "\n",
    "for to_from in df['To_From']:\n",
    "    print(to_from)\n",
    "    to_col.append(to_from.split(\"_\")[0].upper())\n",
    "    from_col.append(to_from.split(\"_\")[1].upper())\n",
    "\n",
    "df['To'] = to_col\n",
    "df['From'] = from_col\n",
    "df = df.drop('To_From', axis = 1)\n",
    "df"
   ],
   "metadata": {
    "collapsed": false,
    "pycharm": {
     "name": "#%%\n"
    }
   }
  },
  {
   "cell_type": "code",
   "execution_count": 6,
   "outputs": [
    {
     "data": {
      "text/plain": "      Airline Code    DelayTimes  FlightCodes        To       From\n0      Air Canada       [21, 40]        20015  WATERLOO    NEWYORK\n1    Air France 12            []        20025  MONTREAL    TORONTO\n2  Porter Airways   [60, 22, 87]        20035   CALGARY     OTTAWA\n3    12 Air France      [78, 66]        20045    OTTAWA  VANCOUVER\n4        Lufthansa      [12, 33]        20055    LONDON   MONTREAL",
      "text/html": "<div>\n<style scoped>\n    .dataframe tbody tr th:only-of-type {\n        vertical-align: middle;\n    }\n\n    .dataframe tbody tr th {\n        vertical-align: top;\n    }\n\n    .dataframe thead th {\n        text-align: right;\n    }\n</style>\n<table border=\"1\" class=\"dataframe\">\n  <thead>\n    <tr style=\"text-align: right;\">\n      <th></th>\n      <th>Airline Code</th>\n      <th>DelayTimes</th>\n      <th>FlightCodes</th>\n      <th>To</th>\n      <th>From</th>\n    </tr>\n  </thead>\n  <tbody>\n    <tr>\n      <th>0</th>\n      <td>Air Canada</td>\n      <td>[21, 40]</td>\n      <td>20015</td>\n      <td>WATERLOO</td>\n      <td>NEWYORK</td>\n    </tr>\n    <tr>\n      <th>1</th>\n      <td>Air France 12</td>\n      <td>[]</td>\n      <td>20025</td>\n      <td>MONTREAL</td>\n      <td>TORONTO</td>\n    </tr>\n    <tr>\n      <th>2</th>\n      <td>Porter Airways</td>\n      <td>[60, 22, 87]</td>\n      <td>20035</td>\n      <td>CALGARY</td>\n      <td>OTTAWA</td>\n    </tr>\n    <tr>\n      <th>3</th>\n      <td>12 Air France</td>\n      <td>[78, 66]</td>\n      <td>20045</td>\n      <td>OTTAWA</td>\n      <td>VANCOUVER</td>\n    </tr>\n    <tr>\n      <th>4</th>\n      <td>Lufthansa</td>\n      <td>[12, 33]</td>\n      <td>20055</td>\n      <td>LONDON</td>\n      <td>MONTREAL</td>\n    </tr>\n  </tbody>\n</table>\n</div>"
     },
     "execution_count": 6,
     "metadata": {},
     "output_type": "execute_result"
    }
   ],
   "source": [
    "for code in df['Airline Code']:\n",
    "    df = df.replace(code, code.translate(str.maketrans('', '', string.punctuation)))\n",
    "\n",
    "df"
   ],
   "metadata": {
    "collapsed": false,
    "pycharm": {
     "name": "#%%\n"
    }
   }
  },
  {
   "cell_type": "code",
   "execution_count": 7,
   "outputs": [],
   "source": [
    "df.to_csv(\"cleaned_data.csv\", line_terminator=\"\\n\")"
   ],
   "metadata": {
    "collapsed": false,
    "pycharm": {
     "name": "#%%\n"
    }
   }
  },
  {
   "cell_type": "code",
   "execution_count": 7,
   "outputs": [],
   "source": [],
   "metadata": {
    "collapsed": false,
    "pycharm": {
     "name": "#%%\n"
    }
   }
  }
 ],
 "metadata": {
  "kernelspec": {
   "name": "deeplearning",
   "language": "python",
   "display_name": "DeepLearning"
  },
  "language_info": {
   "codemirror_mode": {
    "name": "ipython",
    "version": 2
   },
   "file_extension": ".py",
   "mimetype": "text/x-python",
   "name": "python",
   "nbconvert_exporter": "python",
   "pygments_lexer": "ipython2",
   "version": "2.7.6"
  }
 },
 "nbformat": 4,
 "nbformat_minor": 0
}